{
 "cells": [
  {
   "cell_type": "code",
   "execution_count": 85,
   "id": "bigger-jumping",
   "metadata": {
    "ExecuteTime": {
     "end_time": "2021-11-18T15:32:23.214092Z",
     "start_time": "2021-11-18T15:32:23.197156Z"
    }
   },
   "outputs": [],
   "source": [
    "import numpy as np\n",
    "import random\n",
    "from heapq import nlargest\n"
   ]
  },
  {
   "cell_type": "code",
   "execution_count": 23,
   "id": "patent-subject",
   "metadata": {
    "ExecuteTime": {
     "end_time": "2021-11-18T14:38:51.932548Z",
     "start_time": "2021-11-18T14:38:51.920327Z"
    }
   },
   "outputs": [],
   "source": [
    "def init_population(n):\n",
    "    pop = list(range(n))\n",
    "    random.shuffle(pop)\n",
    "    return pop"
   ]
  },
  {
   "cell_type": "code",
   "execution_count": 32,
   "id": "global-sailing",
   "metadata": {
    "ExecuteTime": {
     "end_time": "2021-11-18T14:42:59.245965Z",
     "start_time": "2021-11-18T14:42:59.234477Z"
    }
   },
   "outputs": [
    {
     "data": {
      "text/plain": [
       "[3, 9, 4, 2, 7, 6, 0, 5, 1, 8]"
      ]
     },
     "execution_count": 32,
     "metadata": {},
     "output_type": "execute_result"
    }
   ],
   "source": [
    "init_population(10)"
   ]
  },
  {
   "cell_type": "code",
   "execution_count": 40,
   "id": "fatal-gentleman",
   "metadata": {
    "ExecuteTime": {
     "end_time": "2021-11-18T14:57:42.076262Z",
     "start_time": "2021-11-18T14:57:42.055410Z"
    }
   },
   "outputs": [],
   "source": [
    "def fittness(chrom,n):\n",
    "    cost = 0\n",
    "    diagonals_r = {key: 0 for key in range(-n, n + 1)}\n",
    "    diagonals_l = {key: 0 for key in range(2 * n - 1)}\n",
    "    for i in range(n):\n",
    "        diagonals_r[i - chrom[i]] += 1\n",
    "        diagonals_l[i + chrom[i]] += 1\n",
    "    diagonals = list(diagonals_r.values()) + list(diagonals_l.values())\n",
    "    for diagonal in diagonals:\n",
    "        if (diagonal > 0):\n",
    "            cost += diagonal - 1\n",
    "    return cost"
   ]
  },
  {
   "cell_type": "code",
   "execution_count": 46,
   "id": "ecological-adaptation",
   "metadata": {
    "ExecuteTime": {
     "end_time": "2021-11-18T14:59:11.209987Z",
     "start_time": "2021-11-18T14:59:11.195156Z"
    }
   },
   "outputs": [
    {
     "data": {
      "text/plain": [
       "1"
      ]
     },
     "execution_count": 46,
     "metadata": {},
     "output_type": "execute_result"
    }
   ],
   "source": [
    "fittness([4,1,3,2],4)"
   ]
  },
  {
   "cell_type": "code",
   "execution_count": 72,
   "id": "acoustic-cleveland",
   "metadata": {
    "ExecuteTime": {
     "end_time": "2021-11-18T15:25:23.834142Z",
     "start_time": "2021-11-18T15:25:23.818196Z"
    }
   },
   "outputs": [],
   "source": [
    "def crossover(parent_1,parent_2,n):\n",
    "    child = [0]*n\n",
    "    point_1 = random.randint(0,n-1)\n",
    "    point_2 = random.randint(0,n-1)\n",
    "    if point_1 > point_2:\n",
    "        point_1, point_2 = point_2, point_1\n",
    "\n",
    "    cross = parent_1[point_1:point_2]\n",
    "\n",
    "    t = 0\n",
    "    z = 0\n",
    "    for j in range(n):\n",
    "        if j not in range(point_1,point_2):\n",
    "            while True:\n",
    "                if parent_2[t] not in cross:\n",
    "                    child[j] = parent_2[t]\n",
    "                    t +=1\n",
    "                    break\n",
    "                else:\n",
    "                    t += 1\n",
    "        else:\n",
    "            child[j] = cross[z]\n",
    "            z += 1\n",
    "\n",
    "    return np.asarray(child)\n",
    "\n",
    "\n"
   ]
  },
  {
   "cell_type": "code",
   "execution_count": 73,
   "id": "simplified-hollywood",
   "metadata": {
    "ExecuteTime": {
     "end_time": "2021-11-18T15:25:24.432800Z",
     "start_time": "2021-11-18T15:25:24.422828Z"
    }
   },
   "outputs": [
    {
     "data": {
      "text/plain": [
       "array([2, 7, 0, 9, 8, 4, 5, 3, 6, 1])"
      ]
     },
     "execution_count": 73,
     "metadata": {},
     "output_type": "execute_result"
    }
   ],
   "source": [
    "crossover(init_population(10),init_population(10),10)"
   ]
  },
  {
   "cell_type": "code",
   "execution_count": 78,
   "id": "adapted-switzerland",
   "metadata": {
    "ExecuteTime": {
     "end_time": "2021-11-18T15:27:15.664452Z",
     "start_time": "2021-11-18T15:27:15.653483Z"
    }
   },
   "outputs": [],
   "source": [
    "def mutation(chrom,n):\n",
    "    point_1 = random.randint(0,n-1)\n",
    "    point_2 = random.randint(0,n-1)\n",
    "    \n",
    "    mutated = chrom[:]\n",
    "    mutated[point_1], mutated[point_2] = mutated[point_2], mutated[point_1]\n",
    "    \n",
    "    return mutated"
   ]
  },
  {
   "cell_type": "code",
   "execution_count": 84,
   "id": "difficult-myanmar",
   "metadata": {
    "ExecuteTime": {
     "end_time": "2021-11-18T15:27:32.711461Z",
     "start_time": "2021-11-18T15:27:32.698497Z"
    }
   },
   "outputs": [
    {
     "data": {
      "text/plain": [
       "[1, 2, 4, 3, 5]"
      ]
     },
     "execution_count": 84,
     "metadata": {},
     "output_type": "execute_result"
    }
   ],
   "source": [
    "mutation([1,2,3,4,5],5)"
   ]
  },
  {
   "cell_type": "code",
   "execution_count": 86,
   "id": "integrated-investing",
   "metadata": {
    "ExecuteTime": {
     "end_time": "2021-11-18T15:32:46.685764Z",
     "start_time": "2021-11-18T15:32:46.676755Z"
    }
   },
   "outputs": [],
   "source": [
    "def selection(population,fittness_function,k):\n",
    "    pop = sorted(population,key=fittness_function)\n",
    "    return nlargest(k, pop)\n"
   ]
  },
  {
   "cell_type": "code",
   "execution_count": 88,
   "id": "cloudy-panama",
   "metadata": {
    "ExecuteTime": {
     "end_time": "2021-11-18T16:14:00.937240Z",
     "start_time": "2021-11-18T16:14:00.920286Z"
    }
   },
   "outputs": [],
   "source": [
    "def one_step(population,m,n,cross_rate,selection_rate,mutation_rate):\n",
    "    population = selection(population,fittness,selection_per)\n",
    "    \n",
    "    cross_pop = []\n",
    "    for _ in range(cross_rate):\n",
    "        chrom1 = random.sample(population)\n",
    "        chrom2 = random.sample(population)\n",
    "        cross_pop.append(crossover(chrom1,chrom2,n))\n",
    "    \n",
    "    mutation_pop = []\n",
    "    for _ in range(mutation_rate):\n",
    "        chrom = random.sample(population)\n",
    "        mutation_pop.append(mutation(chrom,n))\n",
    "    nex_population = population + cross_pop + mutation_pop    \n",
    "    return next_population"
   ]
  },
  {
   "cell_type": "code",
   "execution_count": null,
   "id": "answering-hospital",
   "metadata": {},
   "outputs": [],
   "source": [
    "def training(n,m,itteration=100,repetation=2):\n",
    "    result_value = []\n",
    "    result_chrom = []\n",
    "    \n",
    "    for i in range(repetition):\n",
    "        population = create_random_population(population_n, cor_len)\n",
    "        iter_history = []\n",
    "        iterr = 0\n",
    "#         print(i)\n",
    "        while True:\n",
    "            if iterr%10==0 and iterr>1: \n",
    "                print(iterr)\n",
    "                print(iter_history[-1])\n",
    "            population = one_step(population,m ,n , selection_per, cross_rate, mutation_rate)\n",
    "            \n",
    "            sorted(population,fittness)\n",
    "            best_res = population[0]\n",
    "            \n",
    "            iter_history.append(best_res[1])\n",
    "            \n",
    "            if check_finish(iterr,iter_history,iter=iteration): break\n",
    "            \n",
    "            iterr += 1\n",
    "        \n",
    "        result_cor.append(best_res[0])\n",
    "        result_value.append(iter_history)    \n",
    "\n",
    "        print(min(iter_history))\n",
    "    \n",
    "    return result_value,result_chor"
   ]
  }
 ],
 "metadata": {
  "kernelspec": {
   "display_name": "Python 3",
   "language": "python",
   "name": "python3"
  },
  "language_info": {
   "codemirror_mode": {
    "name": "ipython",
    "version": 3
   },
   "file_extension": ".py",
   "mimetype": "text/x-python",
   "name": "python",
   "nbconvert_exporter": "python",
   "pygments_lexer": "ipython3",
   "version": "3.8.6"
  },
  "toc": {
   "base_numbering": 1,
   "nav_menu": {},
   "number_sections": true,
   "sideBar": true,
   "skip_h1_title": false,
   "title_cell": "Table of Contents",
   "title_sidebar": "Contents",
   "toc_cell": false,
   "toc_position": {},
   "toc_section_display": true,
   "toc_window_display": false
  },
  "varInspector": {
   "cols": {
    "lenName": 16,
    "lenType": 16,
    "lenVar": 40
   },
   "kernels_config": {
    "python": {
     "delete_cmd_postfix": "",
     "delete_cmd_prefix": "del ",
     "library": "var_list.py",
     "varRefreshCmd": "print(var_dic_list())"
    },
    "r": {
     "delete_cmd_postfix": ") ",
     "delete_cmd_prefix": "rm(",
     "library": "var_list.r",
     "varRefreshCmd": "cat(var_dic_list()) "
    }
   },
   "types_to_exclude": [
    "module",
    "function",
    "builtin_function_or_method",
    "instance",
    "_Feature"
   ],
   "window_display": false
  }
 },
 "nbformat": 4,
 "nbformat_minor": 5
}
