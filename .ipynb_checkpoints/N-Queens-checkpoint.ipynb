{
 "cells": [
  {
   "cell_type": "code",
   "execution_count": 85,
   "id": "enabling-reminder",
   "metadata": {
    "ExecuteTime": {
     "end_time": "2021-11-18T15:32:23.214092Z",
     "start_time": "2021-11-18T15:32:23.197156Z"
    }
   },
   "outputs": [],
   "source": [
    "import numpy as np\n",
    "import random\n",
    "from heapq import nlargest\n"
   ]
  },
  {
   "cell_type": "code",
   "execution_count": 23,
   "id": "coated-daniel",
   "metadata": {
    "ExecuteTime": {
     "end_time": "2021-11-18T14:38:51.932548Z",
     "start_time": "2021-11-18T14:38:51.920327Z"
    }
   },
   "outputs": [],
   "source": [
    "def init_population(n):\n",
    "    pop = list(range(n))\n",
    "    random.shuffle(pop)\n",
    "    return pop"
   ]
  },
  {
   "cell_type": "code",
   "execution_count": 103,
   "id": "flush-section",
   "metadata": {
    "ExecuteTime": {
     "end_time": "2021-11-19T10:32:46.672787Z",
     "start_time": "2021-11-19T10:32:46.656863Z"
    }
   },
   "outputs": [],
   "source": [
    "def fittness(chrom):\n",
    "    n = len(chrom)\n",
    "    cost = 0\n",
    "    diagonals_r = {key: 0 for key in range(-n, n + 1)}\n",
    "    diagonals_l = {key: 0 for key in range(2 * n - 1)}\n",
    "    for i in range(n):\n",
    "        diagonals_r[i - chrom[i]] += 1\n",
    "        diagonals_l[i + chrom[i]] += 1\n",
    "    diagonals = list(diagonals_r.values()) + list(diagonals_l.values())\n",
    "    for diagonal in diagonals:\n",
    "        if (diagonal > 0):\n",
    "            cost += diagonal - 1\n",
    "    return cost"
   ]
  },
  {
   "cell_type": "code",
   "execution_count": 72,
   "id": "closing-opinion",
   "metadata": {
    "ExecuteTime": {
     "end_time": "2021-11-18T15:25:23.834142Z",
     "start_time": "2021-11-18T15:25:23.818196Z"
    }
   },
   "outputs": [],
   "source": [
    "def crossover(parent_1,parent_2,n):\n",
    "    child = [0]*n\n",
    "    point_1 = random.randint(0,n-1)\n",
    "    point_2 = random.randint(0,n-1)\n",
    "    if point_1 > point_2:\n",
    "        point_1, point_2 = point_2, point_1\n",
    "\n",
    "    cross = parent_1[point_1:point_2]\n",
    "\n",
    "    t = 0\n",
    "    z = 0\n",
    "    for j in range(n):\n",
    "        if j not in range(point_1,point_2):\n",
    "            while True:\n",
    "                if parent_2[t] not in cross:\n",
    "                    child[j] = parent_2[t]\n",
    "                    t += 1\n",
    "                    t = t%n\n",
    "                    break\n",
    "                else:\n",
    "                    t += 1\n",
    "                    t = t%n\n",
    "        else:\n",
    "            child[j] = cross[z]\n",
    "            z += 1\n",
    "            \n",
    "\n",
    "    return np.asarray(child)\n",
    "\n",
    "\n"
   ]
  },
  {
   "cell_type": "code",
   "execution_count": 78,
   "id": "cathedral-petite",
   "metadata": {
    "ExecuteTime": {
     "end_time": "2021-11-18T15:27:15.664452Z",
     "start_time": "2021-11-18T15:27:15.653483Z"
    }
   },
   "outputs": [],
   "source": [
    "def mutation(chrom,n):\n",
    "    point_1 = random.randint(0,n-1)\n",
    "    point_2 = random.randint(0,n-1)\n",
    "    \n",
    "    mutated = chrom[:]\n",
    "    mutated[point_1], mutated[point_2] = mutated[point_2], mutated[point_1]\n",
    "    \n",
    "    return mutated"
   ]
  },
  {
   "cell_type": "code",
   "execution_count": 104,
   "id": "fifty-interim",
   "metadata": {
    "ExecuteTime": {
     "end_time": "2021-11-19T10:33:02.910763Z",
     "start_time": "2021-11-19T10:33:02.893755Z"
    }
   },
   "outputs": [],
   "source": [
    "def selection(population,fittness_function,k):\n",
    "    pop = sorted(population,key=fittness_function)\n",
    "    return nlargest(k, pop)\n"
   ]
  },
  {
   "cell_type": "code",
   "execution_count": 106,
   "id": "freelance-vaccine",
   "metadata": {
    "ExecuteTime": {
     "end_time": "2021-11-19T10:33:54.079720Z",
     "start_time": "2021-11-19T10:33:54.067051Z"
    }
   },
   "outputs": [],
   "source": [
    "def one_step(population,m,n,selection_rate,cross_rate,mutation_rate):\n",
    "    population = selection(population,fittness,selection_rate)\n",
    "    \n",
    "    cross_pop = []\n",
    "    for _ in range(cross_rate):\n",
    "        chrom1 = random.sample(population,1)\n",
    "        chrom2 = random.sample(population,1)\n",
    "        cross_pop.append(crossover(chrom1,chrom2,n))\n",
    "    \n",
    "    mutation_pop = []\n",
    "    for _ in range(mutation_rate):\n",
    "        chrom = random.sample(population,1)\n",
    "        mutation_pop.append(mutation(chrom,n))\n",
    "    nex_population = population + cross_pop + mutation_pop    \n",
    "    return next_population"
   ]
  },
  {
   "cell_type": "code",
   "execution_count": 107,
   "id": "nutritional-handling",
   "metadata": {
    "ExecuteTime": {
     "end_time": "2021-11-19T10:33:54.454260Z",
     "start_time": "2021-11-19T10:33:54.447315Z"
    }
   },
   "outputs": [],
   "source": [
    "def check_finished(itter,iter_hist,max_itter):\n",
    "    if itter > max_itter:\n",
    "        return True\n",
    "    "
   ]
  },
  {
   "cell_type": "code",
   "execution_count": 108,
   "id": "fixed-newman",
   "metadata": {
    "ExecuteTime": {
     "end_time": "2021-11-19T10:33:54.841119Z",
     "start_time": "2021-11-19T10:33:54.816185Z"
    }
   },
   "outputs": [],
   "source": [
    "def training(n,m,selection_rate, cross_rate, mutation_rate,itteration=100,repetition=2):\n",
    "    repeat_hist = []\n",
    "    \n",
    "    for i in range(repetition):\n",
    "        population = []\n",
    "        for _ in range(m):\n",
    "            population.append(init_population(n))\n",
    "        \n",
    "        iter_history = []\n",
    "        iterr = 0\n",
    "        while True:\n",
    "            if iterr%10==0 and iterr>1: \n",
    "                print(iterr)\n",
    "                print(iter_history[-1])\n",
    "            population = one_step(population,m ,n , selection_rate, cross_rate, mutation_rate)\n",
    "            \n",
    "            sorted(population,fittness)\n",
    "            best_res = population[0]\n",
    "            \n",
    "            iter_history.append(best_res)\n",
    "            \n",
    "            if check_finish(iterr,iter_history,iter=itteration): break\n",
    "            \n",
    "            iterr += 1\n",
    "        \n",
    "        repeat_hist.append(iter_history)    \n",
    "\n",
    "        print(min(iter_history))\n",
    "    \n",
    "    return repeat_hist"
   ]
  },
  {
   "cell_type": "code",
   "execution_count": 109,
   "id": "western-operator",
   "metadata": {
    "ExecuteTime": {
     "end_time": "2021-11-19T10:33:55.317050Z",
     "start_time": "2021-11-19T10:33:55.279491Z"
    }
   },
   "outputs": [
    {
     "ename": "IndexError",
     "evalue": "list index out of range",
     "output_type": "error",
     "traceback": [
      "\u001b[1;31m---------------------------------------------------------------------------\u001b[0m",
      "\u001b[1;31mIndexError\u001b[0m                                Traceback (most recent call last)",
      "\u001b[1;32m<ipython-input-109-312d009ced23>\u001b[0m in \u001b[0;36m<module>\u001b[1;34m\u001b[0m\n\u001b[0;32m      1\u001b[0m \u001b[0mk\u001b[0m \u001b[1;33m=\u001b[0m \u001b[1;36m100\u001b[0m\u001b[1;33m\u001b[0m\u001b[1;33m\u001b[0m\u001b[0m\n\u001b[0;32m      2\u001b[0m \u001b[0mn_queens\u001b[0m \u001b[1;33m=\u001b[0m \u001b[1;36m8\u001b[0m\u001b[1;33m\u001b[0m\u001b[1;33m\u001b[0m\u001b[0m\n\u001b[1;32m----> 3\u001b[1;33m \u001b[0mtraining\u001b[0m\u001b[1;33m(\u001b[0m\u001b[0mn_queens\u001b[0m\u001b[1;33m,\u001b[0m\u001b[0mk\u001b[0m\u001b[1;33m,\u001b[0m\u001b[0mselection_rate\u001b[0m\u001b[1;33m=\u001b[0m\u001b[0mk\u001b[0m\u001b[1;33m//\u001b[0m\u001b[1;36m2\u001b[0m\u001b[1;33m,\u001b[0m \u001b[0mcross_rate\u001b[0m\u001b[1;33m=\u001b[0m\u001b[1;36m3\u001b[0m\u001b[1;33m*\u001b[0m\u001b[1;33m(\u001b[0m\u001b[0mk\u001b[0m\u001b[1;33m//\u001b[0m\u001b[1;36m4\u001b[0m\u001b[1;33m)\u001b[0m\u001b[1;33m,\u001b[0m \u001b[0mmutation_rate\u001b[0m\u001b[1;33m=\u001b[0m\u001b[0mk\u001b[0m\u001b[1;33m//\u001b[0m\u001b[1;36m4\u001b[0m\u001b[1;33m)\u001b[0m\u001b[1;33m\u001b[0m\u001b[1;33m\u001b[0m\u001b[0m\n\u001b[0m",
      "\u001b[1;32m<ipython-input-108-64d1cf880eb6>\u001b[0m in \u001b[0;36mtraining\u001b[1;34m(n, m, selection_rate, cross_rate, mutation_rate, itteration, repetition)\u001b[0m\n\u001b[0;32m     13\u001b[0m                 \u001b[0mprint\u001b[0m\u001b[1;33m(\u001b[0m\u001b[0miterr\u001b[0m\u001b[1;33m)\u001b[0m\u001b[1;33m\u001b[0m\u001b[1;33m\u001b[0m\u001b[0m\n\u001b[0;32m     14\u001b[0m                 \u001b[0mprint\u001b[0m\u001b[1;33m(\u001b[0m\u001b[0miter_history\u001b[0m\u001b[1;33m[\u001b[0m\u001b[1;33m-\u001b[0m\u001b[1;36m1\u001b[0m\u001b[1;33m]\u001b[0m\u001b[1;33m)\u001b[0m\u001b[1;33m\u001b[0m\u001b[1;33m\u001b[0m\u001b[0m\n\u001b[1;32m---> 15\u001b[1;33m             \u001b[0mpopulation\u001b[0m \u001b[1;33m=\u001b[0m \u001b[0mone_step\u001b[0m\u001b[1;33m(\u001b[0m\u001b[0mpopulation\u001b[0m\u001b[1;33m,\u001b[0m\u001b[0mm\u001b[0m \u001b[1;33m,\u001b[0m\u001b[0mn\u001b[0m \u001b[1;33m,\u001b[0m \u001b[0mselection_rate\u001b[0m\u001b[1;33m,\u001b[0m \u001b[0mcross_rate\u001b[0m\u001b[1;33m,\u001b[0m \u001b[0mmutation_rate\u001b[0m\u001b[1;33m)\u001b[0m\u001b[1;33m\u001b[0m\u001b[1;33m\u001b[0m\u001b[0m\n\u001b[0m\u001b[0;32m     16\u001b[0m \u001b[1;33m\u001b[0m\u001b[0m\n\u001b[0;32m     17\u001b[0m             \u001b[0msorted\u001b[0m\u001b[1;33m(\u001b[0m\u001b[0mpopulation\u001b[0m\u001b[1;33m,\u001b[0m\u001b[0mfittness\u001b[0m\u001b[1;33m)\u001b[0m\u001b[1;33m\u001b[0m\u001b[1;33m\u001b[0m\u001b[0m\n",
      "\u001b[1;32m<ipython-input-106-b35130afb939>\u001b[0m in \u001b[0;36mone_step\u001b[1;34m(population, m, n, selection_rate, cross_rate, mutation_rate)\u001b[0m\n\u001b[0;32m      6\u001b[0m         \u001b[0mchrom1\u001b[0m \u001b[1;33m=\u001b[0m \u001b[0mrandom\u001b[0m\u001b[1;33m.\u001b[0m\u001b[0msample\u001b[0m\u001b[1;33m(\u001b[0m\u001b[0mpopulation\u001b[0m\u001b[1;33m,\u001b[0m\u001b[1;36m1\u001b[0m\u001b[1;33m)\u001b[0m\u001b[1;33m\u001b[0m\u001b[1;33m\u001b[0m\u001b[0m\n\u001b[0;32m      7\u001b[0m         \u001b[0mchrom2\u001b[0m \u001b[1;33m=\u001b[0m \u001b[0mrandom\u001b[0m\u001b[1;33m.\u001b[0m\u001b[0msample\u001b[0m\u001b[1;33m(\u001b[0m\u001b[0mpopulation\u001b[0m\u001b[1;33m,\u001b[0m\u001b[1;36m1\u001b[0m\u001b[1;33m)\u001b[0m\u001b[1;33m\u001b[0m\u001b[1;33m\u001b[0m\u001b[0m\n\u001b[1;32m----> 8\u001b[1;33m         \u001b[0mcross_pop\u001b[0m\u001b[1;33m.\u001b[0m\u001b[0mappend\u001b[0m\u001b[1;33m(\u001b[0m\u001b[0mcrossover\u001b[0m\u001b[1;33m(\u001b[0m\u001b[0mchrom1\u001b[0m\u001b[1;33m,\u001b[0m\u001b[0mchrom2\u001b[0m\u001b[1;33m,\u001b[0m\u001b[0mn\u001b[0m\u001b[1;33m)\u001b[0m\u001b[1;33m)\u001b[0m\u001b[1;33m\u001b[0m\u001b[1;33m\u001b[0m\u001b[0m\n\u001b[0m\u001b[0;32m      9\u001b[0m \u001b[1;33m\u001b[0m\u001b[0m\n\u001b[0;32m     10\u001b[0m     \u001b[0mmutation_pop\u001b[0m \u001b[1;33m=\u001b[0m \u001b[1;33m[\u001b[0m\u001b[1;33m]\u001b[0m\u001b[1;33m\u001b[0m\u001b[1;33m\u001b[0m\u001b[0m\n",
      "\u001b[1;32m<ipython-input-72-ec622bf6ec2c>\u001b[0m in \u001b[0;36mcrossover\u001b[1;34m(parent_1, parent_2, n)\u001b[0m\n\u001b[0;32m     13\u001b[0m         \u001b[1;32mif\u001b[0m \u001b[0mj\u001b[0m \u001b[1;32mnot\u001b[0m \u001b[1;32min\u001b[0m \u001b[0mrange\u001b[0m\u001b[1;33m(\u001b[0m\u001b[0mpoint_1\u001b[0m\u001b[1;33m,\u001b[0m\u001b[0mpoint_2\u001b[0m\u001b[1;33m)\u001b[0m\u001b[1;33m:\u001b[0m\u001b[1;33m\u001b[0m\u001b[1;33m\u001b[0m\u001b[0m\n\u001b[0;32m     14\u001b[0m             \u001b[1;32mwhile\u001b[0m \u001b[1;32mTrue\u001b[0m\u001b[1;33m:\u001b[0m\u001b[1;33m\u001b[0m\u001b[1;33m\u001b[0m\u001b[0m\n\u001b[1;32m---> 15\u001b[1;33m                 \u001b[1;32mif\u001b[0m \u001b[0mparent_2\u001b[0m\u001b[1;33m[\u001b[0m\u001b[0mt\u001b[0m\u001b[1;33m]\u001b[0m \u001b[1;32mnot\u001b[0m \u001b[1;32min\u001b[0m \u001b[0mcross\u001b[0m\u001b[1;33m:\u001b[0m\u001b[1;33m\u001b[0m\u001b[1;33m\u001b[0m\u001b[0m\n\u001b[0m\u001b[0;32m     16\u001b[0m                     \u001b[0mchild\u001b[0m\u001b[1;33m[\u001b[0m\u001b[0mj\u001b[0m\u001b[1;33m]\u001b[0m \u001b[1;33m=\u001b[0m \u001b[0mparent_2\u001b[0m\u001b[1;33m[\u001b[0m\u001b[0mt\u001b[0m\u001b[1;33m]\u001b[0m\u001b[1;33m\u001b[0m\u001b[1;33m\u001b[0m\u001b[0m\n\u001b[0;32m     17\u001b[0m                     \u001b[0mt\u001b[0m \u001b[1;33m+=\u001b[0m\u001b[1;36m1\u001b[0m\u001b[1;33m\u001b[0m\u001b[1;33m\u001b[0m\u001b[0m\n",
      "\u001b[1;31mIndexError\u001b[0m: list index out of range"
     ]
    }
   ],
   "source": [
    "k = 100\n",
    "n_queens = 8\n",
    "training(n_queens,k,selection_rate=k//2, cross_rate=3*(k//4), mutation_rate=k//4)"
   ]
  },
  {
   "cell_type": "code",
   "execution_count": null,
   "id": "found-wheat",
   "metadata": {},
   "outputs": [],
   "source": []
  },
  {
   "cell_type": "code",
   "execution_count": null,
   "id": "charming-island",
   "metadata": {},
   "outputs": [],
   "source": []
  }
 ],
 "metadata": {
  "kernelspec": {
   "display_name": "Python 3",
   "language": "python",
   "name": "python3"
  },
  "language_info": {
   "codemirror_mode": {
    "name": "ipython",
    "version": 3
   },
   "file_extension": ".py",
   "mimetype": "text/x-python",
   "name": "python",
   "nbconvert_exporter": "python",
   "pygments_lexer": "ipython3",
   "version": "3.8.6"
  },
  "toc": {
   "base_numbering": 1,
   "nav_menu": {},
   "number_sections": true,
   "sideBar": true,
   "skip_h1_title": false,
   "title_cell": "Table of Contents",
   "title_sidebar": "Contents",
   "toc_cell": false,
   "toc_position": {},
   "toc_section_display": true,
   "toc_window_display": false
  },
  "varInspector": {
   "cols": {
    "lenName": 16,
    "lenType": 16,
    "lenVar": 40
   },
   "kernels_config": {
    "python": {
     "delete_cmd_postfix": "",
     "delete_cmd_prefix": "del ",
     "library": "var_list.py",
     "varRefreshCmd": "print(var_dic_list())"
    },
    "r": {
     "delete_cmd_postfix": ") ",
     "delete_cmd_prefix": "rm(",
     "library": "var_list.r",
     "varRefreshCmd": "cat(var_dic_list()) "
    }
   },
   "types_to_exclude": [
    "module",
    "function",
    "builtin_function_or_method",
    "instance",
    "_Feature"
   ],
   "window_display": true
  }
 },
 "nbformat": 4,
 "nbformat_minor": 5
}
