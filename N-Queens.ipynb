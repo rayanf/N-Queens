{
 "cells": [
  {
   "cell_type": "code",
   "execution_count": 214,
   "id": "accomplished-canyon",
   "metadata": {
    "ExecuteTime": {
     "end_time": "2021-11-19T12:06:36.570042Z",
     "start_time": "2021-11-19T12:06:36.553053Z"
    }
   },
   "outputs": [],
   "source": [
    "import numpy as np\n",
    "import random\n",
    "from heapq import nlargest\n"
   ]
  },
  {
   "cell_type": "code",
   "execution_count": 215,
   "id": "opposite-conservative",
   "metadata": {
    "ExecuteTime": {
     "end_time": "2021-11-19T12:06:36.771458Z",
     "start_time": "2021-11-19T12:06:36.760489Z"
    }
   },
   "outputs": [],
   "source": [
    "def init_population(n):\n",
    "    pop = list(range(n))\n",
    "    random.shuffle(pop)\n",
    "    return np.asarray(pop)"
   ]
  },
  {
   "cell_type": "code",
   "execution_count": 240,
   "id": "constitutional-delivery",
   "metadata": {
    "ExecuteTime": {
     "end_time": "2021-11-19T12:11:33.678721Z",
     "start_time": "2021-11-19T12:11:33.659736Z"
    }
   },
   "outputs": [
    {
     "name": "stdout",
     "output_type": "stream",
     "text": [
      "[2, 1, 0, 3, 4]\n",
      "[4 2 0 3 1] [3 2 1 0 4]\n"
     ]
    }
   ],
   "source": [
    "chrom_test = init_population(5)\n",
    "population = []\n",
    "for _ in range(5):\n",
    "    population.append(init_population(5))\n",
    "population = np.asarray(population)\n",
    "population = np.stack(population)\n",
    "\n",
    "print(crossover(population[0],population[1],5))\n",
    "print(population[0],population[1])"
   ]
  },
  {
   "cell_type": "code",
   "execution_count": 217,
   "id": "auburn-roller",
   "metadata": {
    "ExecuteTime": {
     "end_time": "2021-11-19T12:06:37.101243Z",
     "start_time": "2021-11-19T12:06:37.088281Z"
    }
   },
   "outputs": [],
   "source": [
    "def fittness(chrom):\n",
    "    n = len(chrom)\n",
    "    cost = 0\n",
    "    diagonals_r = {key: 0 for key in range(-n, n + 1)}\n",
    "    diagonals_l = {key: 0 for key in range(2 * n - 1)}\n",
    "    for i in range(n):\n",
    "        diagonals_r[i - chrom[i]] += 1\n",
    "        diagonals_l[i + chrom[i]] += 1\n",
    "    diagonals = list(diagonals_r.values()) + list(diagonals_l.values())\n",
    "    for diagonal in diagonals:\n",
    "        if (diagonal > 0):\n",
    "            cost += diagonal - 1\n",
    "    return cost"
   ]
  },
  {
   "cell_type": "code",
   "execution_count": 218,
   "id": "silent-disclosure",
   "metadata": {
    "ExecuteTime": {
     "end_time": "2021-11-19T12:06:37.257447Z",
     "start_time": "2021-11-19T12:06:37.244470Z"
    }
   },
   "outputs": [],
   "source": [
    "def crossover(parent_1,parent_2,n):\n",
    "    child = [0]*n\n",
    "    point_1 = random.randint(0,n-1)\n",
    "    point_2 = random.randint(0,n-1)\n",
    "    if point_1 > point_2:\n",
    "        point_1, point_2 = point_2, point_1\n",
    "    \n",
    "#     print(point_1)\n",
    "#     print(point_2)\n",
    "#     print(parent_1)\n",
    "#     print(parent_2)\n",
    "\n",
    "    cross = parent_1[point_1:point_2]\n",
    "\n",
    "    t = 0\n",
    "    z = 0\n",
    "    for j in range(n):\n",
    "#         print('j: ' + str(j))\n",
    "        if j not in range(point_1,point_2):\n",
    "#             print('z: '+ str(z))\n",
    "\n",
    "            while True:\n",
    "#                 print('t: '+ str(t))\n",
    "                if parent_2[t] not in cross:\n",
    "                    child[j] = parent_2[t]\n",
    "                    t += 1\n",
    "                    t = t%n\n",
    "                    break\n",
    "                else:\n",
    "                    t += 1\n",
    "                    t = t%n\n",
    "        else:\n",
    "            child[j] = cross[z]\n",
    "            z += 1\n",
    "            z = z%n\n",
    "            \n",
    "\n",
    "    return child\n",
    "\n",
    "\n"
   ]
  },
  {
   "cell_type": "code",
   "execution_count": 219,
   "id": "fourth-hormone",
   "metadata": {
    "ExecuteTime": {
     "end_time": "2021-11-19T12:06:37.431376Z",
     "start_time": "2021-11-19T12:06:37.419839Z"
    }
   },
   "outputs": [],
   "source": [
    "def mutation(chrom,n):\n",
    "    point_1 = random.randint(0,n-1)\n",
    "    point_2 = random.randint(0,n-1)\n",
    "    \n",
    "    mutated = chrom[:]\n",
    "    mutated[point_1], mutated[point_2] = mutated[point_2], mutated[point_1]\n",
    "    \n",
    "    return mutated"
   ]
  },
  {
   "cell_type": "code",
   "execution_count": 220,
   "id": "cosmetic-comedy",
   "metadata": {
    "ExecuteTime": {
     "end_time": "2021-11-19T12:06:37.588594Z",
     "start_time": "2021-11-19T12:06:37.576573Z"
    }
   },
   "outputs": [],
   "source": [
    "def selection(population,fittness_function,k):\n",
    "    pop = sorted(population,key=fittness_function)\n",
    "    return pop[:k]\n"
   ]
  },
  {
   "cell_type": "code",
   "execution_count": 221,
   "id": "indoor-principal",
   "metadata": {
    "ExecuteTime": {
     "end_time": "2021-11-19T12:06:37.761048Z",
     "start_time": "2021-11-19T12:06:37.748012Z"
    }
   },
   "outputs": [],
   "source": [
    "def local_search(population,n,m):\n",
    "    tabu_list = []\n",
    "    "
   ]
  },
  {
   "cell_type": "code",
   "execution_count": 257,
   "id": "current-whole",
   "metadata": {
    "ExecuteTime": {
     "end_time": "2021-11-19T12:17:09.480868Z",
     "start_time": "2021-11-19T12:17:09.473873Z"
    }
   },
   "outputs": [],
   "source": [
    "def one_step(population,m,n,selection_rate,cross_rate,mutation_rate):\n",
    "    population = selection(population,fittness,selection_rate)\n",
    "#     print(len(population))\n",
    "    cross_pop = []\n",
    "    for _ in range(cross_rate): \n",
    "        a = random.randint(0,selection_rate-1)\n",
    "#         print(a)\n",
    "        chrom1 = population[a]\n",
    "        a = random.randint(0,selection_rate-1)\n",
    "        chrom2 = population[a]\n",
    "        cross_pop.append(crossover(chrom1,chrom2,n))\n",
    "    \n",
    "    mutation_pop = []\n",
    "    for _ in range(mutation_rate):\n",
    "        a = random.randint(0,selection_rate-1)\n",
    "        chrom = population[a]\n",
    "        mutation_pop.append(mutation(chrom,n))\n",
    "\n",
    "    next_population = np.concatenate((population,cross_pop))\n",
    "    next_population = np.concatenate((next_population,mutation_pop))    \n",
    "    return next_population"
   ]
  },
  {
   "cell_type": "code",
   "execution_count": 223,
   "id": "lyric-mandate",
   "metadata": {
    "ExecuteTime": {
     "end_time": "2021-11-19T12:06:39.105555Z",
     "start_time": "2021-11-19T12:06:39.090559Z"
    }
   },
   "outputs": [],
   "source": [
    "def check_finished(itter,iter_hist,max_itter):\n",
    "    if itter > max_itter:\n",
    "        return True\n",
    "    elif fittness(iter_hist[-1]) == 0:\n",
    "        return True\n",
    "    "
   ]
  },
  {
   "cell_type": "code",
   "execution_count": 228,
   "id": "another-treatment",
   "metadata": {
    "ExecuteTime": {
     "end_time": "2021-11-19T12:07:45.713760Z",
     "start_time": "2021-11-19T12:07:45.695809Z"
    }
   },
   "outputs": [],
   "source": [
    "def training(n,m,selection_rate, cross_rate, mutation_rate,itteration=100,repetition=2):\n",
    "    repeat_hist = []\n",
    "    \n",
    "    for i in range(repetition):\n",
    "        population = []\n",
    "        for _ in range(m):\n",
    "            population.append(init_population(n))\n",
    "            \n",
    "        population = np.asarray(population)\n",
    "        population = np.stack(population)\n",
    "\n",
    "        iter_history = []\n",
    "        iterr = 0\n",
    "        while True:\n",
    "            if iterr%10==0 and iterr>1: \n",
    "                print(str(iterr)+': ')\n",
    "                print(fittness(iter_history[-1]))\n",
    "            population = one_step(population,m ,n , selection_rate, cross_rate, mutation_rate)\n",
    "            \n",
    "            sorted(population,key=fittness)\n",
    "            best_res = population[0]\n",
    "            \n",
    "            iter_history.append(best_res)\n",
    "            \n",
    "            if check_finished(iterr,iter_history,max_itter=itteration): break\n",
    "            \n",
    "            iterr += 1\n",
    "        \n",
    "        repeat_hist.append(iter_history)    \n",
    "\n",
    "    \n",
    "    return repeat_hist"
   ]
  },
  {
   "cell_type": "code",
   "execution_count": 162,
   "id": "valid-favor",
   "metadata": {
    "ExecuteTime": {
     "end_time": "2021-11-19T11:14:11.297573Z",
     "start_time": "2021-11-19T11:13:50.413498Z"
    }
   },
   "outputs": [
    {
     "name": "stdout",
     "output_type": "stream",
     "text": [
      "10: \n",
      "34\n",
      "20: \n",
      "33\n",
      "30: \n",
      "26\n",
      "40: \n",
      "23\n",
      "50: \n",
      "21\n",
      "60: \n",
      "20\n",
      "70: \n",
      "19\n",
      "80: \n",
      "17\n",
      "90: \n",
      "17\n",
      "100: \n",
      "16\n",
      "110: \n",
      "14\n",
      "120: \n",
      "14\n",
      "130: \n",
      "12\n",
      "140: \n",
      "11\n",
      "150: \n",
      "10\n",
      "160: \n",
      "10\n",
      "170: \n",
      "10\n",
      "180: \n",
      "10\n",
      "190: \n",
      "10\n",
      "200: \n",
      "9\n",
      "210: \n",
      "8\n",
      "220: \n",
      "8\n",
      "230: \n",
      "8\n",
      "240: \n",
      "7\n",
      "250: \n",
      "6\n",
      "260: \n",
      "6\n",
      "270: \n",
      "6\n",
      "280: \n",
      "6\n",
      "290: \n",
      "5\n",
      "300: \n",
      "4\n",
      "310: \n",
      "4\n",
      "320: \n",
      "4\n",
      "330: \n",
      "4\n",
      "340: \n",
      "4\n",
      "350: \n",
      "4\n",
      "360: \n",
      "3\n",
      "370: \n",
      "3\n",
      "380: \n",
      "3\n",
      "390: \n",
      "3\n",
      "400: \n",
      "2\n",
      "410: \n",
      "1\n",
      "420: \n",
      "1\n",
      "430: \n",
      "1\n",
      "440: \n",
      "1\n",
      "450: \n",
      "1\n",
      "460: \n",
      "1\n",
      "470: \n",
      "1\n",
      "480: \n",
      "1\n",
      "490: \n",
      "1\n",
      "500: \n",
      "1\n",
      "510: \n",
      "1\n",
      "520: \n",
      "1\n",
      "530: \n",
      "1\n",
      "540: \n",
      "1\n",
      "550: \n",
      "1\n",
      "560: \n",
      "1\n",
      "570: \n",
      "1\n",
      "580: \n",
      "1\n",
      "590: \n",
      "1\n",
      "600: \n",
      "1\n",
      "610: \n",
      "1\n",
      "[39, 91, 75, 28, 45, 5, 10, 36, 6, 74, 72, 85, 22, 65, 15, 27, 25, 11, 51, 86, 43, 14, 93, 64, 69, 49, 20, 30, 37, 79, 78, 60, 58, 4, 57, 31, 42, 98, 73, 59, 81, 17, 82, 24, 89, 94, 34, 40, 16, 18, 66, 38, 96, 19, 32, 62, 53, 80, 13, 71, 46, 97, 92, 12, 2, 55, 1, 68, 99, 83, 95, 56, 3, 41, 70, 29, 50, 21, 23, 9, 7, 26, 47, 90, 76, 77, 44, 48, 63, 67, 52, 61, 87, 35, 33, 54, 8, 84, 0, 88]\n"
     ]
    }
   ],
   "source": [
    "k = 100\n",
    "n_queens = 100\n",
    "itter = 1000\n",
    "hist = training(n_queens,k,selection_rate=k//2, cross_rate=3*(k//8), mutation_rate=k//8,itteration=itter,repetition=1)"
   ]
  },
  {
   "cell_type": "code",
   "execution_count": null,
   "id": "alleged-helena",
   "metadata": {
    "ExecuteTime": {
     "start_time": "2021-11-19T12:21:13.883Z"
    }
   },
   "outputs": [
    {
     "name": "stdout",
     "output_type": "stream",
     "text": [
      "10: \n",
      "132\n",
      "20: \n",
      "127\n",
      "30: \n",
      "116\n",
      "40: \n",
      "115\n",
      "50: \n",
      "118\n",
      "60: \n",
      "112\n",
      "70: \n",
      "104\n",
      "80: \n",
      "105\n",
      "90: \n",
      "103\n",
      "100: \n",
      "101\n",
      "110: \n",
      "99\n",
      "120: \n",
      "98\n",
      "130: \n",
      "97\n",
      "140: \n",
      "92\n",
      "150: \n",
      "90\n",
      "160: \n",
      "88\n",
      "170: \n",
      "89\n",
      "180: \n",
      "84\n",
      "190: \n",
      "87\n",
      "200: \n",
      "83\n",
      "210: \n",
      "80\n",
      "220: \n",
      "78\n",
      "230: \n",
      "77\n",
      "240: \n",
      "76\n",
      "250: \n",
      "75\n",
      "260: \n",
      "73\n",
      "270: \n",
      "74\n",
      "280: \n",
      "70\n",
      "290: \n",
      "67\n",
      "300: \n",
      "67\n",
      "310: \n",
      "65\n",
      "320: \n",
      "64\n",
      "330: \n",
      "63\n",
      "340: \n",
      "62\n",
      "350: \n",
      "60\n",
      "360: \n",
      "60\n",
      "370: \n",
      "59\n",
      "380: \n",
      "61\n",
      "390: \n",
      "57\n",
      "400: \n",
      "56\n",
      "410: \n",
      "55\n",
      "420: \n",
      "57\n",
      "430: \n",
      "53\n",
      "440: \n",
      "52\n",
      "450: \n",
      "51\n",
      "460: \n",
      "51\n",
      "470: \n",
      "52\n",
      "480: \n",
      "49\n",
      "490: \n",
      "51\n",
      "500: \n",
      "48\n",
      "510: \n",
      "49\n",
      "520: \n",
      "47\n",
      "530: \n",
      "47\n",
      "540: \n",
      "47\n",
      "550: \n",
      "44\n",
      "560: \n",
      "45\n",
      "570: \n",
      "42\n",
      "580: \n",
      "39\n",
      "590: \n",
      "38\n",
      "600: \n",
      "38\n",
      "610: \n",
      "37\n",
      "620: \n",
      "37\n",
      "630: \n",
      "36\n",
      "640: \n",
      "39\n",
      "650: \n",
      "39\n",
      "660: \n",
      "36\n",
      "670: \n",
      "35\n",
      "680: \n",
      "37\n",
      "690: \n",
      "36\n",
      "700: \n",
      "31\n",
      "710: \n",
      "31\n",
      "720: \n",
      "30\n",
      "730: \n",
      "30\n",
      "740: \n",
      "30\n",
      "750: \n",
      "29\n",
      "760: \n",
      "28\n",
      "770: \n",
      "28\n",
      "780: \n",
      "26\n",
      "790: \n",
      "26\n",
      "800: \n",
      "25\n",
      "810: \n",
      "24\n",
      "820: \n",
      "24\n",
      "830: \n",
      "24\n",
      "840: \n",
      "23\n",
      "850: \n",
      "23\n",
      "860: \n",
      "26\n",
      "870: \n",
      "25\n",
      "880: \n",
      "22\n",
      "890: \n",
      "22\n",
      "900: \n",
      "22\n",
      "910: \n",
      "22\n",
      "920: \n",
      "22\n",
      "930: \n",
      "22\n",
      "940: \n",
      "25\n",
      "950: \n",
      "21\n",
      "960: \n",
      "20\n",
      "970: \n",
      "20\n",
      "980: \n",
      "20\n",
      "990: \n",
      "22\n",
      "1000: \n",
      "19\n"
     ]
    }
   ],
   "source": [
    "k = 100\n",
    "n_queens = 300\n",
    "itter = 100000\n",
    "hist = training(n_queens,k,selection_rate=k//2, cross_rate=3*(k//8), mutation_rate=k//8,itteration=itter,repetition=1)"
   ]
  },
  {
   "cell_type": "code",
   "execution_count": 261,
   "id": "electoral-tournament",
   "metadata": {
    "ExecuteTime": {
     "end_time": "2021-11-19T12:21:07.318708Z",
     "start_time": "2021-11-19T12:21:07.298728Z"
    }
   },
   "outputs": [
    {
     "data": {
      "text/plain": [
       "0"
      ]
     },
     "execution_count": 261,
     "metadata": {},
     "output_type": "execute_result"
    }
   ],
   "source": [
    "fittness(hist[0][-1])\n"
   ]
  },
  {
   "cell_type": "code",
   "execution_count": null,
   "id": "serial-ceiling",
   "metadata": {},
   "outputs": [],
   "source": []
  }
 ],
 "metadata": {
  "kernelspec": {
   "display_name": "Python 3",
   "language": "python",
   "name": "python3"
  },
  "language_info": {
   "codemirror_mode": {
    "name": "ipython",
    "version": 3
   },
   "file_extension": ".py",
   "mimetype": "text/x-python",
   "name": "python",
   "nbconvert_exporter": "python",
   "pygments_lexer": "ipython3",
   "version": "3.8.6"
  },
  "toc": {
   "base_numbering": 1,
   "nav_menu": {},
   "number_sections": true,
   "sideBar": true,
   "skip_h1_title": false,
   "title_cell": "Table of Contents",
   "title_sidebar": "Contents",
   "toc_cell": false,
   "toc_position": {},
   "toc_section_display": true,
   "toc_window_display": false
  },
  "varInspector": {
   "cols": {
    "lenName": 16,
    "lenType": 16,
    "lenVar": 40
   },
   "kernels_config": {
    "python": {
     "delete_cmd_postfix": "",
     "delete_cmd_prefix": "del ",
     "library": "var_list.py",
     "varRefreshCmd": "print(var_dic_list())"
    },
    "r": {
     "delete_cmd_postfix": ") ",
     "delete_cmd_prefix": "rm(",
     "library": "var_list.r",
     "varRefreshCmd": "cat(var_dic_list()) "
    }
   },
   "types_to_exclude": [
    "module",
    "function",
    "builtin_function_or_method",
    "instance",
    "_Feature"
   ],
   "window_display": true
  }
 },
 "nbformat": 4,
 "nbformat_minor": 5
}
